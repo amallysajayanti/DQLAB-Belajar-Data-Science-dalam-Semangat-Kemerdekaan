{
 "cells": [
  {
   "cell_type": "markdown",
   "id": "d9fc3343",
   "metadata": {},
   "source": [
    "# Python \"Hello World\" & Statement"
   ]
  },
  {
   "cell_type": "code",
   "execution_count": 3,
   "id": "f078efa3",
   "metadata": {},
   "outputs": [
    {
     "name": "stdout",
     "output_type": "stream",
     "text": [
      "Hello World.\n",
      "Saya Aksara, baru belajar Python.\n"
     ]
    }
   ],
   "source": [
    "print(\"Hello World.\")\n",
    "print(\"Saya Aksara, baru belajar Python.\")"
   ]
  },
  {
   "cell_type": "markdown",
   "id": "39bed5b7",
   "metadata": {},
   "source": [
    "# Variables di Python"
   ]
  },
  {
   "cell_type": "code",
   "execution_count": 5,
   "id": "5a53ea9b",
   "metadata": {},
   "outputs": [],
   "source": [
    "bil1 = 10\n",
    "Bil_2 = 20\n",
    "Frasa = \"Halo Dunia\"\n",
    "bil1, Bil_2 = 10, 20\n",
    "salam = \"Selamat Pagi\"; Penutup = \"Salam Sejahtera\""
   ]
  },
  {
   "cell_type": "markdown",
   "id": "ad560a66",
   "metadata": {},
   "source": [
    "# Comments di Python"
   ]
  },
  {
   "cell_type": "code",
   "execution_count": 6,
   "id": "ab146f0c",
   "metadata": {},
   "outputs": [
    {
     "name": "stdout",
     "output_type": "stream",
     "text": [
      "jadi # digunakan untuk membuat comment pada Python\n"
     ]
    }
   ],
   "source": [
    "#perintah pada baris ini tidak mempengaruhi program\n",
    "'''\n",
    "perintah ini tidak akan dieksekusi oleh Python\n",
    "dan perintah ini juga tidak akan dieksekusi\n",
    "perintah ini juga tidak akan dieksekusi\n",
    "'''\n",
    "print(\"jadi # digunakan untuk membuat comment pada Python\")"
   ]
  },
  {
   "cell_type": "markdown",
   "id": "68556f5f",
   "metadata": {},
   "source": [
    "# Tugas Praktek"
   ]
  },
  {
   "cell_type": "code",
   "execution_count": 8,
   "id": "56776a14",
   "metadata": {},
   "outputs": [
    {
     "name": "stdout",
     "output_type": "stream",
     "text": [
      "['B', 'e', 'l', 'a', 'j', 'a', 'r', ' ', 'P', 'y', 't', 'h', 'o', 'n', ' ', 'd', 'i', ' ', 'D', 'Q', 'L', 'a', 'b', '.']\n",
      "('B', 'e', 'l', 'a', 'j', 'a', 'r', ' ', 'P', 'y', 't', 'h', 'o', 'n', ' ', 'd', 'i', ' ', 'D', 'Q', 'L', 'a', 'b', '.')\n",
      "{'r', 'a', 'e', 't', 'n', 'Q', ' ', '.', 'd', 'l', 'D', 'o', 'P', 'h', 'j', 'L', 'b', 'i', 'y', 'B'}\n"
     ]
    }
   ],
   "source": [
    "text = \"Belajar Python di DQLab.\"\n",
    "print(list(text))\n",
    "print(tuple(text))\n",
    "print(set(text))"
   ]
  },
  {
   "cell_type": "markdown",
   "id": "71e5bf16",
   "metadata": {},
   "source": [
    "# Menggunakan Library di Python"
   ]
  },
  {
   "cell_type": "code",
   "execution_count": 9,
   "id": "0a98743a",
   "metadata": {},
   "outputs": [],
   "source": [
    "import math\n",
    "import numpy as np\n",
    "import pandas as pd\n",
    "import seaborn as sns"
   ]
  },
  {
   "cell_type": "code",
   "execution_count": null,
   "id": "ea6ca41b",
   "metadata": {},
   "outputs": [],
   "source": []
  }
 ],
 "metadata": {
  "kernelspec": {
   "display_name": "Python 3 (ipykernel)",
   "language": "python",
   "name": "python3"
  },
  "language_info": {
   "codemirror_mode": {
    "name": "ipython",
    "version": 3
   },
   "file_extension": ".py",
   "mimetype": "text/x-python",
   "name": "python",
   "nbconvert_exporter": "python",
   "pygments_lexer": "ipython3",
   "version": "3.9.12"
  }
 },
 "nbformat": 4,
 "nbformat_minor": 5
}
